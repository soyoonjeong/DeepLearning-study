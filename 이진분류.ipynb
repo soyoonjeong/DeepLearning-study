{
  "nbformat": 4,
  "nbformat_minor": 0,
  "metadata": {
    "colab": {
      "name": "영화리뷰분류.ipynb",
      "provenance": [],
      "authorship_tag": "ABX9TyPKqLurlD0kaVIWOJ8dIPE3",
      "include_colab_link": true
    },
    "kernelspec": {
      "name": "python3",
      "display_name": "Python 3"
    },
    "language_info": {
      "name": "python"
    }
  },
  "cells": [
    {
      "cell_type": "markdown",
      "metadata": {
        "id": "view-in-github",
        "colab_type": "text"
      },
      "source": [
        "<a href=\"https://colab.research.google.com/github/soyoonjeong/DeepLearning-study/blob/main/%EC%9D%B4%EC%A7%84%EB%B6%84%EB%A5%98.ipynb\" target=\"_parent\"><img src=\"https://colab.research.google.com/assets/colab-badge.svg\" alt=\"Open In Colab\"/></a>"
      ]
    },
    {
      "cell_type": "markdown",
      "source": [
        "# **데이터셋 로드**"
      ],
      "metadata": {
        "id": "Ww0ukwQjLk3R"
      }
    },
    {
      "cell_type": "code",
      "execution_count": 1,
      "metadata": {
        "colab": {
          "base_uri": "https://localhost:8080/"
        },
        "id": "pKpmYBsAJ7pB",
        "outputId": "2edd79c7-f2d7-4832-951f-77f3a44f0b03"
      },
      "outputs": [
        {
          "output_type": "stream",
          "name": "stdout",
          "text": [
            "Downloading data from https://storage.googleapis.com/tensorflow/tf-keras-datasets/imdb.npz\n",
            "17465344/17464789 [==============================] - 0s 0us/step\n",
            "17473536/17464789 [==============================] - 0s 0us/step\n"
          ]
        }
      ],
      "source": [
        "from keras.datasets import imdb\n",
        "\n",
        "(train_data, train_labels),(test_data, test_labels) = imdb.load_data(num_words = 10000)"
      ]
    },
    {
      "cell_type": "code",
      "source": [
        "train_data.shape"
      ],
      "metadata": {
        "colab": {
          "base_uri": "https://localhost:8080/"
        },
        "id": "BRg7xDNLL6um",
        "outputId": "46646419-2577-48ba-dce9-f0ef73e2da06"
      },
      "execution_count": 2,
      "outputs": [
        {
          "output_type": "execute_result",
          "data": {
            "text/plain": [
              "(25000,)"
            ]
          },
          "metadata": {},
          "execution_count": 2
        }
      ]
    },
    {
      "cell_type": "code",
      "source": [
        "test_data.shape"
      ],
      "metadata": {
        "colab": {
          "base_uri": "https://localhost:8080/"
        },
        "id": "_Lp98onDMBU2",
        "outputId": "a2310231-479d-41f8-b4b7-a00fa382ece7"
      },
      "execution_count": 3,
      "outputs": [
        {
          "output_type": "execute_result",
          "data": {
            "text/plain": [
              "(25000,)"
            ]
          },
          "metadata": {},
          "execution_count": 3
        }
      ]
    },
    {
      "cell_type": "markdown",
      "source": [
        "# **데이터 준비**"
      ],
      "metadata": {
        "id": "gAewQtLJMZvP"
      }
    },
    {
      "cell_type": "markdown",
      "source": [
        "숫자 리스트를 텐서로 변경 => 원-핫 인코딩"
      ],
      "metadata": {
        "id": "8bX7E_fIMlWl"
      }
    },
    {
      "cell_type": "code",
      "source": [
        "import numpy as np\n",
        "\n",
        "def vectorize_sequences(sequences, dimension = 10000):\n",
        "  results = np.zeros((len(sequences), dimension))\n",
        "  for i, sequence in enumerate(sequences):\n",
        "    results[i, sequence] = 1\n",
        "  return results\n",
        "\n",
        "x_train = vectorize_sequences(train_data)\n",
        "x_test = vectorize_sequences(test_data)"
      ],
      "metadata": {
        "id": "a8NY5l02MOSO"
      },
      "execution_count": 4,
      "outputs": []
    },
    {
      "cell_type": "code",
      "source": [
        "y_train = np.asarray(train_labels).astype('float32') # 스칼라값을 넘파이 배열로 변경\n",
        "y_test = np.asarray(test_labels).astype('float32')"
      ],
      "metadata": {
        "id": "gygiLPkINk5e"
      },
      "execution_count": 5,
      "outputs": []
    },
    {
      "cell_type": "markdown",
      "source": [
        "# **신경망 모델 만들기**"
      ],
      "metadata": {
        "id": "p2ZIW3qyOco2"
      }
    },
    {
      "cell_type": "markdown",
      "source": [
        "- 16개의 은닉 유닛을 가진 2개의 은닉 층\n",
        "- 현재 리뷰의 감정을 스칼라 값의 예측으로 출력하는 세 번째 층"
      ],
      "metadata": {
        "id": "uC00xBsIQ1Cd"
      }
    },
    {
      "cell_type": "code",
      "source": [
        "from keras import models\n",
        "from keras import layers\n",
        "\n",
        "model = models.Sequential()\n",
        "model.add(layers.Dense(16, input_shape=(10000,), activation=\"relu\"))\n",
        "model.add(layers.Dense(16, activation=\"relu\"))\n",
        "model.add(layers.Dense(1, activation=\"sigmoid\")) # 값을 0과 1 사이로 압축\n"
      ],
      "metadata": {
        "id": "CUAirp8oOWGb"
      },
      "execution_count": 6,
      "outputs": []
    },
    {
      "cell_type": "markdown",
      "source": [
        "# **모델 컴파일하기**"
      ],
      "metadata": {
        "id": "FNIVf-cTvxWZ"
      }
    },
    {
      "cell_type": "code",
      "source": [
        "model.compile(optimizer=\"rmsprop\",\n",
        "              loss='binary_crossentropy',\n",
        "              metrics=['acc'])"
      ],
      "metadata": {
        "id": "BMwwtfr4vQ24"
      },
      "execution_count": 7,
      "outputs": []
    },
    {
      "cell_type": "markdown",
      "source": [
        "# **훈련 검증하기**"
      ],
      "metadata": {
        "id": "sJwN2JHtx5lu"
      }
    },
    {
      "cell_type": "markdown",
      "source": [
        "훈련 데이터에서 10000개의 샘플 떼내어 검증 세트 만들기"
      ],
      "metadata": {
        "id": "17sg-BZIyPtI"
      }
    },
    {
      "cell_type": "code",
      "source": [
        "x_val = x_train[:10000]\n",
        "partial_x_train = x_train[10000:]\n",
        "y_val = y_train[:10000]\n",
        "partial_y_train = y_train[10000:]"
      ],
      "metadata": {
        "id": "uPzeh8GGv32H"
      },
      "execution_count": 8,
      "outputs": []
    },
    {
      "cell_type": "markdown",
      "source": [
        "# **모델 훈련하기**"
      ],
      "metadata": {
        "id": "c6YGgdKMyVnQ"
      }
    },
    {
      "cell_type": "markdown",
      "source": [
        "- 512개의 샘플씩 미니 배치를 만들어 모든 샘플에 대해 20번의 에포크 동안 훈련 \n",
        "- 동시에 따로 떼어 높은 1만 개의 샘플에서 손실과 정확도를 측정함"
      ],
      "metadata": {
        "id": "Bk0NDKD_0WY6"
      }
    },
    {
      "cell_type": "code",
      "source": [
        "history = model.fit(partial_x_train, partial_y_train,\n",
        "                    epochs = 20,\n",
        "                    batch_size = 512,\n",
        "                    validation_data = (x_val,y_val))"
      ],
      "metadata": {
        "colab": {
          "base_uri": "https://localhost:8080/"
        },
        "id": "cIrUPG7mzQhC",
        "outputId": "698ededc-e3b1-4561-c79a-4560b9aff9d7"
      },
      "execution_count": 9,
      "outputs": [
        {
          "output_type": "stream",
          "name": "stdout",
          "text": [
            "Epoch 1/20\n",
            "30/30 [==============================] - 2s 44ms/step - loss: 0.5435 - acc: 0.7854 - val_loss: 0.4249 - val_acc: 0.8672\n",
            "Epoch 2/20\n",
            "30/30 [==============================] - 1s 29ms/step - loss: 0.3428 - acc: 0.8957 - val_loss: 0.3248 - val_acc: 0.8874\n",
            "Epoch 3/20\n",
            "30/30 [==============================] - 1s 29ms/step - loss: 0.2528 - acc: 0.9205 - val_loss: 0.2866 - val_acc: 0.8914\n",
            "Epoch 4/20\n",
            "30/30 [==============================] - 1s 29ms/step - loss: 0.1988 - acc: 0.9359 - val_loss: 0.2824 - val_acc: 0.8850\n",
            "Epoch 5/20\n",
            "30/30 [==============================] - 1s 30ms/step - loss: 0.1617 - acc: 0.9481 - val_loss: 0.2779 - val_acc: 0.8878\n",
            "Epoch 6/20\n",
            "30/30 [==============================] - 1s 29ms/step - loss: 0.1349 - acc: 0.9559 - val_loss: 0.2809 - val_acc: 0.8889\n",
            "Epoch 7/20\n",
            "30/30 [==============================] - 1s 29ms/step - loss: 0.1103 - acc: 0.9677 - val_loss: 0.2947 - val_acc: 0.8864\n",
            "Epoch 8/20\n",
            "30/30 [==============================] - 1s 29ms/step - loss: 0.0943 - acc: 0.9723 - val_loss: 0.3092 - val_acc: 0.8834\n",
            "Epoch 9/20\n",
            "30/30 [==============================] - 1s 29ms/step - loss: 0.0785 - acc: 0.9779 - val_loss: 0.3352 - val_acc: 0.8794\n",
            "Epoch 10/20\n",
            "30/30 [==============================] - 1s 28ms/step - loss: 0.0645 - acc: 0.9830 - val_loss: 0.3664 - val_acc: 0.8785\n",
            "Epoch 11/20\n",
            "30/30 [==============================] - 1s 29ms/step - loss: 0.0555 - acc: 0.9856 - val_loss: 0.3728 - val_acc: 0.8800\n",
            "Epoch 12/20\n",
            "30/30 [==============================] - 1s 29ms/step - loss: 0.0444 - acc: 0.9901 - val_loss: 0.3984 - val_acc: 0.8788\n",
            "Epoch 13/20\n",
            "30/30 [==============================] - 1s 29ms/step - loss: 0.0344 - acc: 0.9929 - val_loss: 0.4336 - val_acc: 0.8768\n",
            "Epoch 14/20\n",
            "30/30 [==============================] - 1s 28ms/step - loss: 0.0291 - acc: 0.9941 - val_loss: 0.4669 - val_acc: 0.8747\n",
            "Epoch 15/20\n",
            "30/30 [==============================] - 1s 28ms/step - loss: 0.0233 - acc: 0.9961 - val_loss: 0.5129 - val_acc: 0.8658\n",
            "Epoch 16/20\n",
            "30/30 [==============================] - 1s 29ms/step - loss: 0.0175 - acc: 0.9979 - val_loss: 0.5291 - val_acc: 0.8729\n",
            "Epoch 17/20\n",
            "30/30 [==============================] - 1s 29ms/step - loss: 0.0144 - acc: 0.9982 - val_loss: 0.5712 - val_acc: 0.8689\n",
            "Epoch 18/20\n",
            "30/30 [==============================] - 1s 28ms/step - loss: 0.0090 - acc: 0.9996 - val_loss: 0.6336 - val_acc: 0.8625\n",
            "Epoch 19/20\n",
            "30/30 [==============================] - 1s 29ms/step - loss: 0.0078 - acc: 0.9997 - val_loss: 0.6508 - val_acc: 0.8683\n",
            "Epoch 20/20\n",
            "30/30 [==============================] - 1s 29ms/step - loss: 0.0066 - acc: 0.9993 - val_loss: 0.6822 - val_acc: 0.8674\n"
          ]
        }
      ]
    },
    {
      "cell_type": "markdown",
      "source": [
        "# **훈련과 검증 손실, 정확도 그리기**"
      ],
      "metadata": {
        "id": "s18XSPKF1qWD"
      }
    },
    {
      "cell_type": "code",
      "source": [
        "import matplotlib.pyplot as plt\n",
        "\n",
        "history_dict = history.history\n",
        "loss = history_dict['loss']\n",
        "val_loss = history_dict['val_loss']\n",
        "\n",
        "epochs = range(1,len(loss)+1)\n",
        "\n",
        "plt.plot(epochs, loss, 'bo', label='Training loss')\n",
        "plt.plot(epochs, val_loss, 'b', label='Validation loss')\n",
        "plt.title('Training and validation loss')\n",
        "plt.xlabel('Epochs')\n",
        "plt.ylabel('Loss')\n",
        "plt.legend()\n",
        "\n",
        "plt.show()"
      ],
      "metadata": {
        "colab": {
          "base_uri": "https://localhost:8080/",
          "height": 295
        },
        "id": "D-zGqlVZ1usL",
        "outputId": "8cdc936b-dbf4-47dd-a807-6e8af0262fbd"
      },
      "execution_count": 11,
      "outputs": [
        {
          "output_type": "display_data",
          "data": {
            "image/png": "[encoded data removed]",
            "text/plain": [
              "<Figure size 432x288 with 1 Axes>"
            ]
          },
          "metadata": {
            "needs_background": "light"
          }
        }
      ]
    },
    {
      "cell_type": "code",
      "source": [
        "plt.clf()\n",
        "acc = history_dict['acc']\n",
        "val_acc = history_dict['val_acc']\n",
        "\n",
        "plt.plot(epochs, acc, 'bo', label='Training acc')\n",
        "plt.plot(epochs, val_acc, 'b', label='Validation acc')\n",
        "plt.title('Training and validation acc')\n",
        "plt.xlabel('Epochs')\n",
        "plt.ylabel('Accuracy')\n",
        "plt.legend()\n",
        "\n",
        "plt.show()"
      ],
      "metadata": {
        "colab": {
          "base_uri": "https://localhost:8080/",
          "height": 295
        },
        "id": "gZ-oJD0dwVk9",
        "outputId": "efcb8ad8-66ce-4a38-92a9-26ab1be3facb"
      },
      "execution_count": 12,
      "outputs": [
        {
          "output_type": "display_data",
          "data": {
            "image/png": "[encoded data removed]",
            "text/plain": [
              "<Figure size 432x288 with 1 Axes>"
            ]
          },
          "metadata": {
            "needs_background": "light"
          }
        }
      ]
    },
    {
      "cell_type": "markdown",
      "source": [
        "두번째 에포크 이후로 훈련 데이터에 과도하게 최적화되어 훈련 데이터에 특화된 표현을 학습하므로 검증 손실이 증가하고 검증 정확도가 감소"
      ],
      "metadata": {
        "id": "DCkwetsMw78k"
      }
    },
    {
      "cell_type": "markdown",
      "source": [
        "# **모델 다시 훈련**"
      ],
      "metadata": {
        "id": "PX1ysRa7xSzV"
      }
    },
    {
      "cell_type": "markdown",
      "source": [
        "위에서 이어서 fit() 메서드를 재호출하면 학습된 가중치에서 훈련이 이어지므로 처움부터 다시 학습하려면 모델 객체를 새로 만들어야 함"
      ],
      "metadata": {
        "id": "SGKBIOC9yHye"
      }
    },
    {
      "cell_type": "code",
      "source": [
        "model = models.Sequential()\n",
        "model.add(layers.Dense(16, activation='relu', input_shape=(10000,)))\n",
        "model.add(layers.Dense(16, activation='relu'))\n",
        "model.add(layers.Dense(1, activation='sigmoid'))\n",
        "\n",
        "model.compile(optimizer='rmsprop',\n",
        "              loss='binary_crossentropy',\n",
        "              metrics=['acc'])\n",
        "\n",
        "model.fit(x_train, y_train, epochs=4, batch_size=512)"
      ],
      "metadata": {
        "colab": {
          "base_uri": "https://localhost:8080/"
        },
        "id": "3vUNGDDEw5c9",
        "outputId": "60b517f8-fe5b-4c29-c9ec-a256b43933e7"
      },
      "execution_count": 13,
      "outputs": [
        {
          "output_type": "stream",
          "name": "stdout",
          "text": [
            "Epoch 1/4\n",
            "49/49 [==============================] - 2s 23ms/step - loss: 0.4749 - acc: 0.8085\n",
            "Epoch 2/4\n",
            "49/49 [==============================] - 1s 23ms/step - loss: 0.2733 - acc: 0.9078\n",
            "Epoch 3/4\n",
            "49/49 [==============================] - 1s 23ms/step - loss: 0.2075 - acc: 0.9276\n",
            "Epoch 4/4\n",
            "49/49 [==============================] - 1s 23ms/step - loss: 0.1723 - acc: 0.9404\n"
          ]
        },
        {
          "output_type": "execute_result",
          "data": {
            "text/plain": [
              "<keras.callbacks.History at 0x7fb8fd256890>"
            ]
          },
          "metadata": {},
          "execution_count": 13
        }
      ]
    },
    {
      "cell_type": "markdown",
      "source": [
        "# **모델 테스트**"
      ],
      "metadata": {
        "id": "PngqecXtyYHl"
      }
    },
    {
      "cell_type": "code",
      "source": [
        "results = model.evaluate(x_test, y_test)\n",
        "results"
      ],
      "metadata": {
        "colab": {
          "base_uri": "https://localhost:8080/"
        },
        "id": "z0jZ4er9yQyT",
        "outputId": "0a26850a-a5b5-4679-9d7a-60b757ce3717"
      },
      "execution_count": 14,
      "outputs": [
        {
          "output_type": "stream",
          "name": "stdout",
          "text": [
            "782/782 [==============================] - 2s 2ms/step - loss: 0.2930 - acc: 0.8842\n"
          ]
        },
        {
          "output_type": "execute_result",
          "data": {
            "text/plain": [
              "[0.2930338382720947, 0.8841599822044373]"
            ]
          },
          "metadata": {},
          "execution_count": 14
        }
      ]
    },
    {
      "cell_type": "markdown",
      "source": [
        "88%의 정확도 달성 ^0^"
      ],
      "metadata": {
        "id": "Gzl427ckyecK"
      }
    }
  ]
}