{
  "nbformat": 4,
  "nbformat_minor": 0,
  "metadata": {
    "colab": {
      "name": "이진분류.ipynb",
      "provenance": [],
      "authorship_tag": "ABX9TyMdZyWhfosPE1infNkspetw",
      "include_colab_link": true
    },
    "kernelspec": {
      "name": "python3",
      "display_name": "Python 3"
    },
    "language_info": {
      "name": "python"
    }
  },
  "cells": [
    {
      "cell_type": "markdown",
      "metadata": {
        "id": "view-in-github",
        "colab_type": "text"
      },
      "source": [
        "<a href=\"https://colab.research.google.com/github/soyoonjeong/DeepLearning-study/blob/main/%EC%9D%B4%EC%A7%84%EB%B6%84%EB%A5%98.ipynb\" target=\"_parent\"><img src=\"https://colab.research.google.com/assets/colab-badge.svg\" alt=\"Open In Colab\"/></a>"
      ]
    },
    {
      "cell_type": "code",
      "metadata": {
        "colab": {
          "base_uri": "https://localhost:8080/"
        },
        "id": "MghVVosIXlUf",
        "outputId": "563d8127-10d6-4b06-ae56-585445c1cf99"
      },
      "source": [
        "from keras.datasets import imdb\n",
        "\n",
        "(train_data, train_labels),(test_data, test_labels) = imdb.load_data(num_words=10000)"
      ],
      "execution_count": 1,
      "outputs": [
        {
          "output_type": "stream",
          "name": "stdout",
          "text": [
            "Downloading data from https://storage.googleapis.com/tensorflow/tf-keras-datasets/imdb.npz\n",
            "17465344/17464789 [==============================] - 0s 0us/step\n",
            "17473536/17464789 [==============================] - 0s 0us/step\n"
          ]
        }
      ]
    },
    {
      "cell_type": "code",
      "metadata": {
        "id": "o1SbKB28YOU5"
      },
      "source": [
        "import numpy as np\n",
        "\n",
        "def vectorize_sequences(sequences, dimension=10000):\n",
        "  result = np.zeros((len(sequences),dimension))\n",
        "  for i, sequence in enumerate(sequences):\n",
        "    result[i, sequence] = 1\n",
        "  return result\n",
        "\n",
        "x_train = vectorize_sequences(train_data)\n",
        "x_test = vectorize_sequences(test_data)"
      ],
      "execution_count": 2,
      "outputs": []
    },
    {
      "cell_type": "code",
      "metadata": {
        "id": "tJ50NBgMZzMl"
      },
      "source": [
        "from keras import models\n",
        "from keras import layers\n",
        "\n",
        "model = models.Sequential()\n",
        "model.add(layers.Dense(16, activation='relu', input_shape=((10000,))))\n",
        "model.add(layers.Dense(16, activation='relu'))\n",
        "model.add(layers.Dense(1,activation=\"sigmoid\"))"
      ],
      "execution_count": 3,
      "outputs": []
    },
    {
      "cell_type": "code",
      "metadata": {
        "id": "EYRomVyDacgr"
      },
      "source": [
        "model.compile(optimizer='rmsprop',\n",
        "              loss=\"binary_crossentropy\",\n",
        "              metrics=[\"accuracy\"])"
      ],
      "execution_count": 4,
      "outputs": []
    },
    {
      "cell_type": "code",
      "metadata": {
        "colab": {
          "base_uri": "https://localhost:8080/"
        },
        "id": "WWTl06x2awPz",
        "outputId": "8027a761-677b-4382-aa2d-096fe371580b"
      },
      "source": [
        "from tensorflow.keras import optimizers\n",
        "\n",
        "model.compile(optimizer= optimizers.RMSprop(lr=0.001),\n",
        "              loss=\"binary_crossentropy\",\n",
        "              metrics=[\"accuracy\"])"
      ],
      "execution_count": 10,
      "outputs": [
        {
          "output_type": "stream",
          "name": "stderr",
          "text": [
            "/usr/local/lib/python3.7/dist-packages/keras/optimizer_v2/optimizer_v2.py:356: UserWarning: The `lr` argument is deprecated, use `learning_rate` instead.\n",
            "  \"The `lr` argument is deprecated, use `learning_rate` instead.\")\n"
          ]
        }
      ]
    },
    {
      "cell_type": "code",
      "metadata": {
        "colab": {
          "base_uri": "https://localhost:8080/"
        },
        "id": "YYUP5qWqbC_I",
        "outputId": "cd0ba189-5298-4be9-cc36-bded2b4c85de"
      },
      "source": [
        "from tensorflow.keras import losses\n",
        "from tensorflow.keras import metrics\n",
        "\n",
        "model.compile(optimizer= optimizers.RMSprop(lr=0.001),\n",
        "              loss=losses.binary_crossentropy,\n",
        "              metrics=[metrics.binary_accuracy])"
      ],
      "execution_count": 13,
      "outputs": [
        {
          "output_type": "stream",
          "name": "stderr",
          "text": [
            "/usr/local/lib/python3.7/dist-packages/keras/optimizer_v2/optimizer_v2.py:356: UserWarning: The `lr` argument is deprecated, use `learning_rate` instead.\n",
            "  \"The `lr` argument is deprecated, use `learning_rate` instead.\")\n"
          ]
        }
      ]
    },
    {
      "cell_type": "code",
      "metadata": {
        "id": "bd2Qqp4db0jM"
      },
      "source": [
        "x_val = x_train[:10000]\n",
        "partial_x_train = x_train[10000:]\n",
        "y_val = train_labels[:10000]\n",
        "partial_y_train = train_labels[10000:]"
      ],
      "execution_count": 14,
      "outputs": []
    },
    {
      "cell_type": "code",
      "metadata": {
        "colab": {
          "base_uri": "https://localhost:8080/"
        },
        "id": "VOlXTc3TcUtO",
        "outputId": "29dc0a14-71b8-4731-e897-1da54f395f9d"
      },
      "source": [
        "history = model.fit(partial_x_train, partial_y_train,\n",
        "          epochs=20,\n",
        "          batch_size=512,\n",
        "          validation_data=(x_val,y_val))"
      ],
      "execution_count": 15,
      "outputs": [
        {
          "output_type": "stream",
          "name": "stdout",
          "text": [
            "Epoch 1/20\n",
            "30/30 [==============================] - 4s 94ms/step - loss: 0.5133 - binary_accuracy: 0.7940 - val_loss: 0.3891 - val_binary_accuracy: 0.8736\n",
            "Epoch 2/20\n",
            "30/30 [==============================] - 1s 34ms/step - loss: 0.3114 - binary_accuracy: 0.9011 - val_loss: 0.3092 - val_binary_accuracy: 0.8869\n",
            "Epoch 3/20\n",
            "30/30 [==============================] - 1s 34ms/step - loss: 0.2296 - binary_accuracy: 0.9225 - val_loss: 0.2868 - val_binary_accuracy: 0.8852\n",
            "Epoch 4/20\n",
            "30/30 [==============================] - 1s 34ms/step - loss: 0.1822 - binary_accuracy: 0.9412 - val_loss: 0.2849 - val_binary_accuracy: 0.8835\n",
            "Epoch 5/20\n",
            "30/30 [==============================] - 1s 34ms/step - loss: 0.1472 - binary_accuracy: 0.9524 - val_loss: 0.2776 - val_binary_accuracy: 0.8897\n",
            "Epoch 6/20\n",
            "30/30 [==============================] - 1s 34ms/step - loss: 0.1220 - binary_accuracy: 0.9617 - val_loss: 0.3338 - val_binary_accuracy: 0.8732\n",
            "Epoch 7/20\n",
            "30/30 [==============================] - 1s 34ms/step - loss: 0.1047 - binary_accuracy: 0.9686 - val_loss: 0.3089 - val_binary_accuracy: 0.8861\n",
            "Epoch 8/20\n",
            "30/30 [==============================] - 1s 34ms/step - loss: 0.0866 - binary_accuracy: 0.9752 - val_loss: 0.3773 - val_binary_accuracy: 0.8670\n",
            "Epoch 9/20\n",
            "30/30 [==============================] - 1s 34ms/step - loss: 0.0701 - binary_accuracy: 0.9815 - val_loss: 0.3483 - val_binary_accuracy: 0.8819\n",
            "Epoch 10/20\n",
            "30/30 [==============================] - 1s 34ms/step - loss: 0.0625 - binary_accuracy: 0.9823 - val_loss: 0.3762 - val_binary_accuracy: 0.8775\n",
            "Epoch 11/20\n",
            "30/30 [==============================] - 1s 34ms/step - loss: 0.0486 - binary_accuracy: 0.9887 - val_loss: 0.4010 - val_binary_accuracy: 0.8788\n",
            "Epoch 12/20\n",
            "30/30 [==============================] - 1s 34ms/step - loss: 0.0412 - binary_accuracy: 0.9907 - val_loss: 0.4419 - val_binary_accuracy: 0.8697\n",
            "Epoch 13/20\n",
            "30/30 [==============================] - 1s 34ms/step - loss: 0.0334 - binary_accuracy: 0.9933 - val_loss: 0.4970 - val_binary_accuracy: 0.8636\n",
            "Epoch 14/20\n",
            "30/30 [==============================] - 1s 34ms/step - loss: 0.0277 - binary_accuracy: 0.9947 - val_loss: 0.4901 - val_binary_accuracy: 0.8714\n",
            "Epoch 15/20\n",
            "30/30 [==============================] - 1s 34ms/step - loss: 0.0221 - binary_accuracy: 0.9963 - val_loss: 0.5529 - val_binary_accuracy: 0.8634\n",
            "Epoch 16/20\n",
            "30/30 [==============================] - 1s 34ms/step - loss: 0.0172 - binary_accuracy: 0.9979 - val_loss: 0.5643 - val_binary_accuracy: 0.8674\n",
            "Epoch 17/20\n",
            "30/30 [==============================] - 1s 34ms/step - loss: 0.0165 - binary_accuracy: 0.9971 - val_loss: 0.5939 - val_binary_accuracy: 0.8685\n",
            "Epoch 18/20\n",
            "30/30 [==============================] - 1s 34ms/step - loss: 0.0097 - binary_accuracy: 0.9994 - val_loss: 0.6601 - val_binary_accuracy: 0.8647\n",
            "Epoch 19/20\n",
            "30/30 [==============================] - 1s 35ms/step - loss: 0.0104 - binary_accuracy: 0.9988 - val_loss: 0.6608 - val_binary_accuracy: 0.8667\n",
            "Epoch 20/20\n",
            "30/30 [==============================] - 1s 34ms/step - loss: 0.0059 - binary_accuracy: 0.9998 - val_loss: 0.7301 - val_binary_accuracy: 0.8591\n"
          ]
        }
      ]
    },
    {
      "cell_type": "code",
      "metadata": {
        "colab": {
          "base_uri": "https://localhost:8080/",
          "height": 295
        },
        "id": "2Q97cxKCkkmP",
        "outputId": "4541f227-5ecd-49db-a3a1-a09c11da2913"
      },
      "source": [
        "import matplotlib.pyplot as plt\n",
        "\n",
        "history_dict = history.history\n",
        "loss = history_dict['loss']\n",
        "val_loss = history_dict['val_loss']\n",
        "\n",
        "epochs = range(1, len(loss)+1)\n",
        "\n",
        "plt.plot(epochs, loss, 'bo', label=\"Training loss\")\n",
        "plt.plot(epochs, val_loss, 'b',label=\"Validation loss\")\n",
        "plt.title(\"Training and Validation loss\")\n",
        "plt.xlabel(\"Epochs\")\n",
        "plt.ylabel(\"Loss\")\n",
        "plt.legend()\n",
        "plt.show()"
      ],
      "execution_count": 16,
      "outputs": [
        {
          "output_type": "display_data",
          "data": {
            "image/png": "[encoded data removed]",
            "text/plain": [
              "<Figure size 432x288 with 1 Axes>"
            ]
          },
          "metadata": {
            "needs_background": "light"
          }
        }
      ]
    },
    {
      "cell_type": "code",
      "metadata": {
        "colab": {
          "base_uri": "https://localhost:8080/",
          "height": 295
        },
        "id": "Pz2Oec08lmdd",
        "outputId": "ca6c77f4-78ad-4bcd-f9a0-5dae553ae82b"
      },
      "source": [
        "acc = history_dict[\"binary_accuracy\"]\n",
        "val_acc = history_dict[\"val_binary_accuracy\"]\n",
        "\n",
        "plt.plot(epochs, acc, 'bo', label=\"Training accuracy\")\n",
        "plt.plot(epochs, val_acc, 'b',label=\"Validation accuracy\")\n",
        "plt.title(\"Training and Validation accuracy\")\n",
        "plt.xlabel(\"Epochs\")\n",
        "plt.ylabel(\"Accuracy\")\n",
        "plt.legend()\n",
        "plt.show()"
      ],
      "execution_count": 20,
      "outputs": [
        {
          "output_type": "display_data",
          "data": {
            "image/png": "[encoded data removed]",
            "text/plain": [
              "<Figure size 432x288 with 1 Axes>"
            ]
          },
          "metadata": {
            "needs_background": "light"
          }
        }
      ]
    },
    {
      "cell_type": "code",
      "metadata": {
        "colab": {
          "base_uri": "https://localhost:8080/"
        },
        "id": "md30C4HDmQSz",
        "outputId": "784c43bf-1058-462d-f4d3-305f63c3c4db"
      },
      "source": [
        "history_dict.keys()"
      ],
      "execution_count": 19,
      "outputs": [
        {
          "output_type": "execute_result",
          "data": {
            "text/plain": [
              "dict_keys(['loss', 'binary_accuracy', 'val_loss', 'val_binary_accuracy'])"
            ]
          },
          "metadata": {},
          "execution_count": 19
        }
      ]
    },
    {
      "cell_type": "code",
      "metadata": {
        "colab": {
          "base_uri": "https://localhost:8080/"
        },
        "id": "iStRCHX3mxxq",
        "outputId": "7c3012cd-6649-4c73-8df3-2b22c8c13015"
      },
      "source": [
        "model.predict(x_test)"
      ],
      "execution_count": 21,
      "outputs": [
        {
          "output_type": "execute_result",
          "data": {
            "text/plain": [
              "array([[3.5704076e-03],\n",
              "       [9.9999958e-01],\n",
              "       [3.1527668e-01],\n",
              "       ...,\n",
              "       [6.6900253e-04],\n",
              "       [6.1836243e-03],\n",
              "       [3.8887602e-01]], dtype=float32)"
            ]
          },
          "metadata": {},
          "execution_count": 21
        }
      ]
    }
  ]
}