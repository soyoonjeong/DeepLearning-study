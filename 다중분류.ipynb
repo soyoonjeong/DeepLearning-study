{
  "nbformat": 4,
  "nbformat_minor": 0,
  "metadata": {
    "colab": {
      "name": "뉴스기사분류.ipynb",
      "provenance": [],
      "authorship_tag": "ABX9TyNDHdIGZP0sPUspEKM2POy2",
      "include_colab_link": true
    },
    "kernelspec": {
      "name": "python3",
      "display_name": "Python 3"
    },
    "language_info": {
      "name": "python"
    }
  },
  "cells": [
    {
      "cell_type": "markdown",
      "metadata": {
        "id": "view-in-github",
        "colab_type": "text"
      },
      "source": [
        "<a href=\"https://colab.research.google.com/github/soyoonjeong/DeepLearning-study/blob/main/%EB%8B%A4%EC%A4%91%EB%B6%84%EB%A5%98.ipynb\" target=\"_parent\"><img src=\"https://colab.research.google.com/assets/colab-badge.svg\" alt=\"Open In Colab\"/></a>"
      ]
    },
    {
      "cell_type": "markdown",
      "source": [
        "# **데이터셋 로드**"
      ],
      "metadata": {
        "id": "mMX6QQ3nFlba"
      }
    },
    {
      "cell_type": "code",
      "execution_count": 1,
      "metadata": {
        "colab": {
          "base_uri": "https://localhost:8080/"
        },
        "id": "Y3nPfR4dFXOO",
        "outputId": "53890b8d-13f0-4e96-aea2-fe788e83dff7"
      },
      "outputs": [
        {
          "output_type": "stream",
          "name": "stdout",
          "text": [
            "Downloading data from https://storage.googleapis.com/tensorflow/tf-keras-datasets/reuters.npz\n",
            "2113536/2110848 [==============================] - 0s 0us/step\n",
            "2121728/2110848 [==============================] - 0s 0us/step\n"
          ]
        }
      ],
      "source": [
        "from keras.datasets import reuters # 로이터 데이터셋 로드\n",
        "(train_data, train_labels),(test_data, test_labels) = reuters.load_data(num_words=10000)"
      ]
    },
    {
      "cell_type": "code",
      "source": [
        "train_data[10]"
      ],
      "metadata": {
        "colab": {
          "base_uri": "https://localhost:8080/"
        },
        "id": "z_IzeKxGF33e",
        "outputId": "fc9c7a56-0b7a-490d-a4b2-c12cf5947cb4"
      },
      "execution_count": 2,
      "outputs": [
        {
          "output_type": "execute_result",
          "data": {
            "text/plain": [
              "[1,\n",
              " 245,\n",
              " 273,\n",
              " 207,\n",
              " 156,\n",
              " 53,\n",
              " 74,\n",
              " 160,\n",
              " 26,\n",
              " 14,\n",
              " 46,\n",
              " 296,\n",
              " 26,\n",
              " 39,\n",
              " 74,\n",
              " 2979,\n",
              " 3554,\n",
              " 14,\n",
              " 46,\n",
              " 4689,\n",
              " 4329,\n",
              " 86,\n",
              " 61,\n",
              " 3499,\n",
              " 4795,\n",
              " 14,\n",
              " 61,\n",
              " 451,\n",
              " 4329,\n",
              " 17,\n",
              " 12]"
            ]
          },
          "metadata": {},
          "execution_count": 2
        }
      ]
    },
    {
      "cell_type": "code",
      "source": [
        "train_labels[10]"
      ],
      "metadata": {
        "colab": {
          "base_uri": "https://localhost:8080/"
        },
        "id": "03EROGdnF9z-",
        "outputId": "c1fbf3e5-7bf2-418e-b870-2bcb9c75ad4b"
      },
      "execution_count": 3,
      "outputs": [
        {
          "output_type": "execute_result",
          "data": {
            "text/plain": [
              "3"
            ]
          },
          "metadata": {},
          "execution_count": 3
        }
      ]
    },
    {
      "cell_type": "markdown",
      "source": [
        "# **데이터 준비**"
      ],
      "metadata": {
        "id": "7dP10l2pGJC1"
      }
    },
    {
      "cell_type": "markdown",
      "source": [
        "데이터를 벡터로 변환"
      ],
      "metadata": {
        "id": "vi5BJIg_GZ9H"
      }
    },
    {
      "cell_type": "code",
      "source": [
        "import numpy as np\n",
        "\n",
        "def vectorize_sequences(sequences, dimension=10000):\n",
        "  results = np.zeros((len(sequences), dimension))\n",
        "  for i, sequence in enumerate(sequences):\n",
        "    results[i, sequence]=1\n",
        "  return results\n",
        "\n",
        "x_train = vectorize_sequences(train_data)\n",
        "x_test = vectorize_sequences(test_data)"
      ],
      "metadata": {
        "id": "kXvA0BOIGAlu"
      },
      "execution_count": 5,
      "outputs": []
    },
    {
      "cell_type": "code",
      "source": [
        "from keras.utils.np_utils import to_categorical\n",
        "\n",
        "one_hot_train_labels = to_categorical(train_labels)\n",
        "one_hot_test_labels = to_categorical(test_labels)"
      ],
      "metadata": {
        "id": "14vJ_JtvHGzX"
      },
      "execution_count": 7,
      "outputs": []
    },
    {
      "cell_type": "markdown",
      "source": [
        "# **모델 구성**"
      ],
      "metadata": {
        "id": "9rRv1PfOI807"
      }
    },
    {
      "cell_type": "markdown",
      "source": [
        "이전 영화 리뷰 분류 문제에 비해 출력 클래스 개수가 46개로 늘어나 출력 공간의 차원이 훨씬 커졌으므로 정보가 누락되지 않도록 층의 유닛 개수를 늘려 층의 규모를 늘려야 한다!"
      ],
      "metadata": {
        "id": "NKBNWNKNJKw7"
      }
    },
    {
      "cell_type": "code",
      "source": [
        "from keras import models\n",
        "from keras import layers\n",
        "\n",
        "model = models.Sequential()\n",
        "model.add(layers.Dense(64, activation='relu', input_shape=(10000,)))\n",
        "model.add(layers.Dense(64, activation='relu'))\n",
        "model.add(layers.Dense(46, activation='softmax'))"
      ],
      "metadata": {
        "id": "JXP58JJ0IoNG"
      },
      "execution_count": 9,
      "outputs": []
    },
    {
      "cell_type": "markdown",
      "source": [
        "- 마지막 Dense층의 크기 46 => 46차원 벡터 출력\n",
        "- 'softmax' 활성화 함수 사용 => 46개의 출력 클래스에 대한 확률 분포 출력"
      ],
      "metadata": {
        "id": "JDlCA29bJ8Ry"
      }
    },
    {
      "cell_type": "markdown",
      "source": [
        "# **모델 컴파일하기**"
      ],
      "metadata": {
        "id": "68TqQXxdKp1w"
      }
    },
    {
      "cell_type": "code",
      "source": [
        "model.compile(optimizer='rmsprop',\n",
        "              loss='categorical_crossentropy',\n",
        "              metrics=['acc'])"
      ],
      "metadata": {
        "id": "z7rAAqvMKnL9"
      },
      "execution_count": 10,
      "outputs": []
    },
    {
      "cell_type": "markdown",
      "source": [
        "# **훈련 검증**"
      ],
      "metadata": {
        "id": "Vteb5DWZK-ak"
      }
    },
    {
      "cell_type": "code",
      "source": [
        "x_val = x_train[:1000]\n",
        "partial_x_train = x_train[1000:]\n",
        "\n",
        "y_val = one_hot_train_labels[:1000]\n",
        "partial_y_train = one_hot_train_labels[1000:]"
      ],
      "metadata": {
        "id": "zIqKCC67K8Wu"
      },
      "execution_count": 11,
      "outputs": []
    },
    {
      "cell_type": "markdown",
      "source": [
        "# **모델 훈련하기**"
      ],
      "metadata": {
        "id": "4QRklc4MLTMD"
      }
    },
    {
      "cell_type": "code",
      "source": [
        "history = model.fit(partial_x_train, partial_y_train,\n",
        "                    epochs = 20,\n",
        "                    batch_size = 512,\n",
        "                    validation_data=(x_val,y_val))"
      ],
      "metadata": {
        "colab": {
          "base_uri": "https://localhost:8080/"
        },
        "id": "7M9bl15ILSnG",
        "outputId": "52ce39b1-345b-4660-8014-336425bca496"
      },
      "execution_count": 12,
      "outputs": [
        {
          "output_type": "stream",
          "name": "stdout",
          "text": [
            "Epoch 1/20\n",
            "16/16 [==============================] - 2s 65ms/step - loss: 2.5000 - acc: 0.5123 - val_loss: 1.6701 - val_acc: 0.6530\n",
            "Epoch 2/20\n",
            "16/16 [==============================] - 1s 49ms/step - loss: 1.3919 - acc: 0.7007 - val_loss: 1.2977 - val_acc: 0.6950\n",
            "Epoch 3/20\n",
            "16/16 [==============================] - 1s 50ms/step - loss: 1.0338 - acc: 0.7737 - val_loss: 1.1280 - val_acc: 0.7520\n",
            "Epoch 4/20\n",
            "16/16 [==============================] - 1s 49ms/step - loss: 0.8109 - acc: 0.8267 - val_loss: 1.0292 - val_acc: 0.7800\n",
            "Epoch 5/20\n",
            "16/16 [==============================] - 1s 49ms/step - loss: 0.6446 - acc: 0.8658 - val_loss: 0.9733 - val_acc: 0.8000\n",
            "Epoch 6/20\n",
            "16/16 [==============================] - 1s 49ms/step - loss: 0.5146 - acc: 0.8948 - val_loss: 0.9522 - val_acc: 0.7980\n",
            "Epoch 7/20\n",
            "16/16 [==============================] - 1s 51ms/step - loss: 0.4126 - acc: 0.9171 - val_loss: 0.8990 - val_acc: 0.8170\n",
            "Epoch 8/20\n",
            "16/16 [==============================] - 1s 50ms/step - loss: 0.3369 - acc: 0.9300 - val_loss: 0.9012 - val_acc: 0.8120\n",
            "Epoch 9/20\n",
            "16/16 [==============================] - 1s 50ms/step - loss: 0.2746 - acc: 0.9392 - val_loss: 0.9110 - val_acc: 0.8160\n",
            "Epoch 10/20\n",
            "16/16 [==============================] - 1s 48ms/step - loss: 0.2339 - acc: 0.9479 - val_loss: 0.9196 - val_acc: 0.8220\n",
            "Epoch 11/20\n",
            "16/16 [==============================] - 1s 49ms/step - loss: 0.2057 - acc: 0.9489 - val_loss: 0.9074 - val_acc: 0.8210\n",
            "Epoch 12/20\n",
            "16/16 [==============================] - 1s 48ms/step - loss: 0.1769 - acc: 0.9523 - val_loss: 0.9533 - val_acc: 0.8220\n",
            "Epoch 13/20\n",
            "16/16 [==============================] - 1s 49ms/step - loss: 0.1607 - acc: 0.9541 - val_loss: 0.9530 - val_acc: 0.8100\n",
            "Epoch 14/20\n",
            "16/16 [==============================] - 1s 48ms/step - loss: 0.1454 - acc: 0.9549 - val_loss: 0.9857 - val_acc: 0.8150\n",
            "Epoch 15/20\n",
            "16/16 [==============================] - 1s 48ms/step - loss: 0.1373 - acc: 0.9553 - val_loss: 1.0168 - val_acc: 0.8080\n",
            "Epoch 16/20\n",
            "16/16 [==============================] - 1s 48ms/step - loss: 0.1303 - acc: 0.9572 - val_loss: 1.0197 - val_acc: 0.8140\n",
            "Epoch 17/20\n",
            "16/16 [==============================] - 1s 49ms/step - loss: 0.1270 - acc: 0.9563 - val_loss: 1.0423 - val_acc: 0.8120\n",
            "Epoch 18/20\n",
            "16/16 [==============================] - 1s 48ms/step - loss: 0.1176 - acc: 0.9588 - val_loss: 1.0531 - val_acc: 0.8110\n",
            "Epoch 19/20\n",
            "16/16 [==============================] - 1s 49ms/step - loss: 0.1150 - acc: 0.9563 - val_loss: 1.1074 - val_acc: 0.8010\n",
            "Epoch 20/20\n",
            "16/16 [==============================] - 1s 49ms/step - loss: 0.1085 - acc: 0.9574 - val_loss: 1.0904 - val_acc: 0.8100\n"
          ]
        }
      ]
    },
    {
      "cell_type": "markdown",
      "source": [
        "8번째 에포크 이후로 과대적합 시작 => 8번의 에포크로 새로운 모델 훈련, 테스트 세트에서 평가"
      ],
      "metadata": {
        "id": "hnajV87FMOFe"
      }
    },
    {
      "cell_type": "code",
      "source": [
        "model = models.Sequential()\n",
        "model.add(layers.Dense(64, activation='relu', input_shape=(10000,)))\n",
        "model.add(layers.Dense(64, activation='relu'))\n",
        "model.add(layers.Dense(46, activation='softmax'))\n",
        "\n",
        "model.compile(optimizer='rmsprop',\n",
        "              loss='categorical_crossentropy',\n",
        "              metrics=['acc'])\n",
        "\n",
        "model.fit(partial_x_train,partial_y_train,\n",
        "          epochs=8,\n",
        "          batch_size=512,\n",
        "          validation_data=(x_val,y_val))\n",
        "results = model.evaluate(x_test, one_hot_test_labels)"
      ],
      "metadata": {
        "colab": {
          "base_uri": "https://localhost:8080/"
        },
        "id": "IYELrjHKMPZO",
        "outputId": "8cb1dbbe-b78e-4f74-86a9-8125a40b81de"
      },
      "execution_count": 13,
      "outputs": [
        {
          "output_type": "stream",
          "name": "stdout",
          "text": [
            "Epoch 1/8\n",
            "16/16 [==============================] - 2s 63ms/step - loss: 2.6208 - acc: 0.5091 - val_loss: 1.7648 - val_acc: 0.6220\n",
            "Epoch 2/8\n",
            "16/16 [==============================] - 1s 49ms/step - loss: 1.4419 - acc: 0.7015 - val_loss: 1.3459 - val_acc: 0.7120\n",
            "Epoch 3/8\n",
            "16/16 [==============================] - 1s 49ms/step - loss: 1.0691 - acc: 0.7777 - val_loss: 1.1311 - val_acc: 0.7630\n",
            "Epoch 4/8\n",
            "16/16 [==============================] - 1s 49ms/step - loss: 0.8393 - acc: 0.8275 - val_loss: 1.0147 - val_acc: 0.7780\n",
            "Epoch 5/8\n",
            "16/16 [==============================] - 1s 49ms/step - loss: 0.6606 - acc: 0.8638 - val_loss: 0.9520 - val_acc: 0.7890\n",
            "Epoch 6/8\n",
            "16/16 [==============================] - 1s 50ms/step - loss: 0.5278 - acc: 0.8911 - val_loss: 0.9187 - val_acc: 0.7960\n",
            "Epoch 7/8\n",
            "16/16 [==============================] - 1s 49ms/step - loss: 0.4221 - acc: 0.9134 - val_loss: 0.8908 - val_acc: 0.8080\n",
            "Epoch 8/8\n",
            "16/16 [==============================] - 1s 47ms/step - loss: 0.3450 - acc: 0.9267 - val_loss: 0.8650 - val_acc: 0.8160\n",
            "71/71 [==============================] - 0s 4ms/step - loss: 0.9697 - acc: 0.7867\n"
          ]
        }
      ]
    },
    {
      "cell_type": "markdown",
      "source": [
        "약 79% 정확도 달성!"
      ],
      "metadata": {
        "id": "CfT1IqiMPzvT"
      }
    }
  ]
}