{
  "nbformat": 4,
  "nbformat_minor": 0,
  "metadata": {
    "colab": {
      "name": "다중분류.ipynb",
      "provenance": [],
      "authorship_tag": "ABX9TyNvtyHjJGtlQ1pyFUJukfsA",
      "include_colab_link": true
    },
    "kernelspec": {
      "name": "python3",
      "display_name": "Python 3"
    },
    "language_info": {
      "name": "python"
    }
  },
  "cells": [
    {
      "cell_type": "markdown",
      "metadata": {
        "id": "view-in-github",
        "colab_type": "text"
      },
      "source": [
        "<a href=\"https://colab.research.google.com/github/soyoonjeong/DeepLearning-study/blob/main/%EB%8B%A4%EC%A4%91%EB%B6%84%EB%A5%98.ipynb\" target=\"_parent\"><img src=\"https://colab.research.google.com/assets/colab-badge.svg\" alt=\"Open In Colab\"/></a>"
      ]
    },
    {
      "cell_type": "code",
      "metadata": {
        "id": "oTSbLMNztVN8"
      },
      "source": [
        "from keras.datasets import reuters\n",
        "\n",
        "(train_data, train_labels),(test_data, test_labels) = reuters.load_data(num_words = 10000)"
      ],
      "execution_count": null,
      "outputs": []
    },
    {
      "cell_type": "code",
      "metadata": {
        "id": "ui_tJgibtnO5"
      },
      "source": [
        "import numpy as np\n",
        "\n",
        "def vectorize_sequences(sequences, dimension=10000):\n",
        "  result = np.zeros((len(sequences),dimension))\n",
        "  for i, sequence in enumerate(sequences):\n",
        "    result[i, sequence]=1\n",
        "  return result\n",
        "\n",
        "x_train = vectorize_sequences(train_data)\n",
        "x_test = vectorize_sequences(test_data)"
      ],
      "execution_count": null,
      "outputs": []
    },
    {
      "cell_type": "code",
      "metadata": {
        "id": "FpNshk9YuIab"
      },
      "source": [
        "def to_one_hot(labels, dimension=46):\n",
        "  result = np.zeros((len(labels),dimension))\n",
        "  for i, label in enumerate(labels):\n",
        "    result[i,labels]=1\n",
        "  return result\n",
        "\n",
        "y_train = to_one_hot(train_labels)\n",
        "y_test = to_one_hot(test_labels)"
      ],
      "execution_count": null,
      "outputs": []
    },
    {
      "cell_type": "code",
      "metadata": {
        "id": "7UYuNNt7vm9z"
      },
      "source": [
        "from tensorflow.keras.utils import to_categorical\n",
        "y_train = to_categorical(train_labels)\n",
        "y_test = to_categorical(test_labels)"
      ],
      "execution_count": null,
      "outputs": []
    },
    {
      "cell_type": "code",
      "metadata": {
        "id": "92KfQt2YwIn5"
      },
      "source": [
        "from keras import models\n",
        "from keras import layers\n",
        "\n",
        "model = models.Sequential()\n",
        "model.add(layers.Dense(64, activation='relu', input_shape=(10000,)))\n",
        "model.add(layers.Dense(64, activation='relu'))\n",
        "model.add(layers.Dense(46, activation=\"softmax\"))"
      ],
      "execution_count": null,
      "outputs": []
    },
    {
      "cell_type": "code",
      "metadata": {
        "id": "h4bFEo9ow4i3"
      },
      "source": [
        "model.compile(optimizer=\"rmsprop\",\n",
        "              loss=\"categorical_crossentropy\",\n",
        "              metrics=[\"accuracy\"])"
      ],
      "execution_count": null,
      "outputs": []
    },
    {
      "cell_type": "code",
      "metadata": {
        "id": "SljxD-vxxE1b"
      },
      "source": [
        "x_val = x_train[:1000]\n",
        "partial_x_train = x_train[1000:]\n",
        "y_val = y_train[:1000]\n",
        "partial_y_train = y_train[1000:]"
      ],
      "execution_count": null,
      "outputs": []
    },
    {
      "cell_type": "code",
      "metadata": {
        "colab": {
          "base_uri": "https://localhost:8080/"
        },
        "id": "ZuVWNMvBxV57",
        "outputId": "3f3efd5c-0334-4812-c859-d815ee071a22"
      },
      "source": [
        "history = model.fit(partial_x_train, partial_y_train,\n",
        "          epochs = 20,\n",
        "          batch_size=512,\n",
        "          validation_data=(x_val,y_val))"
      ],
      "execution_count": null,
      "outputs": [
        {
          "output_type": "stream",
          "name": "stdout",
          "text": [
            "Epoch 1/20\n",
            "16/16 [==============================] - 1s 48ms/step - loss: 2.6411 - accuracy: 0.4875 - val_loss: 1.7333 - val_accuracy: 0.6450\n",
            "Epoch 2/20\n",
            "16/16 [==============================] - 1s 35ms/step - loss: 1.4178 - accuracy: 0.7086 - val_loss: 1.3023 - val_accuracy: 0.7200\n",
            "Epoch 3/20\n",
            "16/16 [==============================] - 1s 36ms/step - loss: 1.0406 - accuracy: 0.7754 - val_loss: 1.1191 - val_accuracy: 0.7570\n",
            "Epoch 4/20\n",
            "16/16 [==============================] - 1s 36ms/step - loss: 0.8124 - accuracy: 0.8275 - val_loss: 1.0437 - val_accuracy: 0.7740\n",
            "Epoch 5/20\n",
            "16/16 [==============================] - 1s 36ms/step - loss: 0.6498 - accuracy: 0.8652 - val_loss: 0.9686 - val_accuracy: 0.7950\n",
            "Epoch 6/20\n",
            "16/16 [==============================] - 1s 35ms/step - loss: 0.5139 - accuracy: 0.8956 - val_loss: 0.9336 - val_accuracy: 0.8060\n",
            "Epoch 7/20\n",
            "16/16 [==============================] - 1s 35ms/step - loss: 0.4168 - accuracy: 0.9148 - val_loss: 0.9092 - val_accuracy: 0.8110\n",
            "Epoch 8/20\n",
            "16/16 [==============================] - 1s 35ms/step - loss: 0.3350 - accuracy: 0.9295 - val_loss: 0.9072 - val_accuracy: 0.8180\n",
            "Epoch 9/20\n",
            "16/16 [==============================] - 1s 35ms/step - loss: 0.2812 - accuracy: 0.9387 - val_loss: 0.9122 - val_accuracy: 0.8120\n",
            "Epoch 10/20\n",
            "16/16 [==============================] - 1s 36ms/step - loss: 0.2339 - accuracy: 0.9463 - val_loss: 0.8946 - val_accuracy: 0.8210\n",
            "Epoch 11/20\n",
            "16/16 [==============================] - 1s 35ms/step - loss: 0.2063 - accuracy: 0.9486 - val_loss: 0.9524 - val_accuracy: 0.8020\n",
            "Epoch 12/20\n",
            "16/16 [==============================] - 1s 36ms/step - loss: 0.1755 - accuracy: 0.9531 - val_loss: 0.9364 - val_accuracy: 0.8190\n",
            "Epoch 13/20\n",
            "16/16 [==============================] - 1s 35ms/step - loss: 0.1618 - accuracy: 0.9543 - val_loss: 0.9477 - val_accuracy: 0.8100\n",
            "Epoch 14/20\n",
            "16/16 [==============================] - 1s 35ms/step - loss: 0.1493 - accuracy: 0.9551 - val_loss: 0.9785 - val_accuracy: 0.8040\n",
            "Epoch 15/20\n",
            "16/16 [==============================] - 1s 35ms/step - loss: 0.1384 - accuracy: 0.9562 - val_loss: 0.9781 - val_accuracy: 0.8080\n",
            "Epoch 16/20\n",
            "16/16 [==============================] - 1s 35ms/step - loss: 0.1309 - accuracy: 0.9568 - val_loss: 1.0330 - val_accuracy: 0.8070\n",
            "Epoch 17/20\n",
            "16/16 [==============================] - 1s 36ms/step - loss: 0.1239 - accuracy: 0.9562 - val_loss: 1.0201 - val_accuracy: 0.8060\n",
            "Epoch 18/20\n",
            "16/16 [==============================] - 1s 35ms/step - loss: 0.1165 - accuracy: 0.9594 - val_loss: 1.0372 - val_accuracy: 0.8000\n",
            "Epoch 19/20\n",
            "16/16 [==============================] - 1s 36ms/step - loss: 0.1141 - accuracy: 0.9575 - val_loss: 1.1396 - val_accuracy: 0.7870\n",
            "Epoch 20/20\n",
            "16/16 [==============================] - 1s 34ms/step - loss: 0.1105 - accuracy: 0.9574 - val_loss: 1.1131 - val_accuracy: 0.7990\n"
          ]
        }
      ]
    },
    {
      "cell_type": "code",
      "metadata": {
        "colab": {
          "base_uri": "https://localhost:8080/"
        },
        "id": "UKm1nQZ_x_rj",
        "outputId": "4f3484a1-c484-4076-f399-4dfd00ffc904"
      },
      "source": [
        "history_dict = history.history\n",
        "history_dict.keys()"
      ],
      "execution_count": null,
      "outputs": [
        {
          "output_type": "execute_result",
          "data": {
            "text/plain": [
              "dict_keys(['loss', 'accuracy', 'val_loss', 'val_accuracy'])"
            ]
          },
          "metadata": {},
          "execution_count": 27
        }
      ]
    },
    {
      "cell_type": "code",
      "metadata": {
        "colab": {
          "base_uri": "https://localhost:8080/",
          "height": 295
        },
        "id": "5Z0K_K3mxj8E",
        "outputId": "b7fd19e3-a25d-453a-fe2f-181a766ecbd2"
      },
      "source": [
        "import matplotlib.pyplot as plt\n",
        "\n",
        "loss = history_dict[\"loss\"]\n",
        "val_loss = history_dict[\"val_loss\"]\n",
        "\n",
        "epochs = range(1, len(loss)+1)\n",
        "\n",
        "plt.plot(epochs, loss, 'bo', label = \"Training loss\")\n",
        "plt.plot(epochs, val_loss,'b', label=\"Validation loss\")\n",
        "plt.title(\"Training and Validation loss\")\n",
        "plt.xlabel(\"Epochs\")\n",
        "plt.ylabel(\"Loss\")\n",
        "plt.legend()\n",
        "plt.show()"
      ],
      "execution_count": null,
      "outputs": [
        {
          "output_type": "display_data",
          "data": {
            "image/png": "[encoded data removed]",
            "text/plain": [
              "<Figure size 432x288 with 1 Axes>"
            ]
          },
          "metadata": {
            "needs_background": "light"
          }
        }
      ]
    },
    {
      "cell_type": "code",
      "metadata": {
        "colab": {
          "base_uri": "https://localhost:8080/",
          "height": 295
        },
        "id": "jUFDRfj7yjHU",
        "outputId": "b2b66e7a-5183-434e-aecd-151d8796d1cb"
      },
      "source": [
        "import matplotlib.pyplot as plt\n",
        "\n",
        "loss = history_dict[\"accuracy\"]\n",
        "val_loss = history_dict[\"val_accuracy\"]\n",
        "\n",
        "epochs = range(1, len(loss)+1)\n",
        "\n",
        "plt.plot(epochs, loss, 'bo', label = \"Training accuracy\")\n",
        "plt.plot(epochs, val_loss,'b', label=\"Validation accuracy\")\n",
        "plt.title(\"Training and Validation accuracy\")\n",
        "plt.xlabel(\"Epochs\")\n",
        "plt.ylabel(\"Accuracy\")\n",
        "plt.legend()\n",
        "plt.show()"
      ],
      "execution_count": null,
      "outputs": [
        {
          "output_type": "display_data",
          "data": {
            "image/png": "[encoded data removed]",
            "text/plain": [
              "<Figure size 432x288 with 1 Axes>"
            ]
          },
          "metadata": {
            "needs_background": "light"
          }
        }
      ]
    },
    {
      "cell_type": "code",
      "metadata": {
        "colab": {
          "base_uri": "https://localhost:8080/"
        },
        "id": "BcPv7CVU4-Pu",
        "outputId": "b22b5605-f3b0-499f-9596-3aeb94b7d686"
      },
      "source": [
        "model = models.Sequential()\n",
        "model.add(layers.Dense(64, activation=\"relu\", input_shape=(10000,)))\n",
        "model.add(layers.Dense(64, activation=\"relu\"))\n",
        "model.add(layers.Dense(46, activation=\"softmax\"))\n",
        "\n",
        "model.compile(optimizer=\"rmsprop\",\n",
        "              loss=\"categorical_crossentropy\",\n",
        "              metrics =[\"accuracy\"])\n",
        "\n",
        "model.fit(partial_x_train, partial_y_train,\n",
        "          epochs=9,\n",
        "          batch_size=512,\n",
        "          validation_data=(x_val,y_val))\n",
        "\n",
        "results = model.evaluate(x_test, y_test)\n",
        "results"
      ],
      "execution_count": null,
      "outputs": [
        {
          "output_type": "stream",
          "name": "stdout",
          "text": [
            "Epoch 1/9\n",
            "16/16 [==============================] - 1s 46ms/step - loss: 2.5697 - accuracy: 0.5496 - val_loss: 1.6980 - val_accuracy: 0.6390\n",
            "Epoch 2/9\n",
            "16/16 [==============================] - 1s 36ms/step - loss: 1.3776 - accuracy: 0.7125 - val_loss: 1.2845 - val_accuracy: 0.7240\n",
            "Epoch 3/9\n",
            "16/16 [==============================] - 1s 35ms/step - loss: 1.0164 - accuracy: 0.7853 - val_loss: 1.1207 - val_accuracy: 0.7620\n",
            "Epoch 4/9\n",
            "16/16 [==============================] - 1s 36ms/step - loss: 0.7953 - accuracy: 0.8330 - val_loss: 1.0031 - val_accuracy: 0.7960\n",
            "Epoch 5/9\n",
            "16/16 [==============================] - 1s 34ms/step - loss: 0.6336 - accuracy: 0.8652 - val_loss: 0.9507 - val_accuracy: 0.8010\n",
            "Epoch 6/9\n",
            "16/16 [==============================] - 1s 37ms/step - loss: 0.5040 - accuracy: 0.8920 - val_loss: 0.9557 - val_accuracy: 0.7980\n",
            "Epoch 7/9\n",
            "16/16 [==============================] - 1s 36ms/step - loss: 0.4070 - accuracy: 0.9156 - val_loss: 0.9035 - val_accuracy: 0.8030\n",
            "Epoch 8/9\n",
            "16/16 [==============================] - 1s 35ms/step - loss: 0.3312 - accuracy: 0.9302 - val_loss: 0.9050 - val_accuracy: 0.8090\n",
            "Epoch 9/9\n",
            "16/16 [==============================] - 1s 36ms/step - loss: 0.2725 - accuracy: 0.9399 - val_loss: 0.8776 - val_accuracy: 0.8130\n",
            "71/71 [==============================] - 0s 2ms/step - loss: 0.9892 - accuracy: 0.7894\n"
          ]
        },
        {
          "output_type": "execute_result",
          "data": {
            "text/plain": [
              "[0.9891872406005859, 0.7894033789634705]"
            ]
          },
          "metadata": {},
          "execution_count": 31
        }
      ]
    }
  ]
}