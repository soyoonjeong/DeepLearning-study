{
  "nbformat": 4,
  "nbformat_minor": 0,
  "metadata": {
    "colab": {
      "name": "케라스 원-핫 인코딩.ipynb",
      "provenance": [],
      "collapsed_sections": [],
      "authorship_tag": "ABX9TyM/G627h7HB3v3iEgIOvI4k",
      "include_colab_link": true
    },
    "kernelspec": {
      "name": "python3",
      "display_name": "Python 3"
    },
    "language_info": {
      "name": "python"
    }
  },
  "cells": [
    {
      "cell_type": "markdown",
      "metadata": {
        "id": "view-in-github",
        "colab_type": "text"
      },
      "source": [
        "<a href=\"https://colab.research.google.com/github/soyoonjeong/DeepLearning-study/blob/main/%EC%BC%80%EB%9D%BC%EC%8A%A4_%EC%9B%90_%ED%95%AB_%EC%9D%B8%EC%BD%94%EB%94%A9.ipynb\" target=\"_parent\"><img src=\"https://colab.research.google.com/assets/colab-badge.svg\" alt=\"Open In Colab\"/></a>"
      ]
    },
    {
      "cell_type": "code",
      "metadata": {
        "id": "KVShTh-OVIhF",
        "colab": {
          "base_uri": "https://localhost:8080/"
        },
        "outputId": "d857b05c-7c51-4044-82ac-3230cf3900b7"
      },
      "source": [
        "from keras.preprocessing.text import Tokenizer\n",
        "\n",
        "samples = ['The cat sat on the mat.','The dog ate my homework.']\n",
        "\n",
        "tokenizer = Tokenizer(num_words = 1000) # 가장 빈도 높은 단어 1000개만 선택하도록 객체 생성\n",
        "tokenizer.fit_on_texts(samples) # 단어 인덱스 구축\n",
        "\n",
        "print(tokenizer.word_index)"
      ],
      "execution_count": 1,
      "outputs": [
        {
          "output_type": "stream",
          "name": "stdout",
          "text": [
            "{'the': 1, 'cat': 2, 'sat': 3, 'on': 4, 'mat': 5, 'dog': 6, 'ate': 7, 'my': 8, 'homework': 9}\n"
          ]
        }
      ]
    },
    {
      "cell_type": "code",
      "metadata": {
        "colab": {
          "base_uri": "https://localhost:8080/"
        },
        "id": "EOYGdfYbDvdP",
        "outputId": "f213cb6e-8016-4b43-c20f-dc716575daba"
      },
      "source": [
        "sequences = tokenizer.texts_to_sequences(samples) # 문자열을 정수 인덱스의 리스트로 변환\n",
        "\n",
        "print(sequences)"
      ],
      "execution_count": 2,
      "outputs": [
        {
          "output_type": "stream",
          "name": "stdout",
          "text": [
            "[[1, 2, 3, 4, 1, 5], [1, 6, 7, 8, 9]]\n"
          ]
        }
      ]
    },
    {
      "cell_type": "code",
      "metadata": {
        "colab": {
          "base_uri": "https://localhost:8080/"
        },
        "id": "dLehQUDKEFhn",
        "outputId": "b0d79c46-fcba-4e3d-959f-5b78653c6f46"
      },
      "source": [
        "one_hot_results = tokenizer.texts_to_matrix(samples, mode=\"binary\") # 원-핫 이진 벡터 표현\n",
        "\n",
        "print(one_hot_results)"
      ],
      "execution_count": 3,
      "outputs": [
        {
          "output_type": "stream",
          "name": "stdout",
          "text": [
            "[[0. 1. 1. ... 0. 0. 0.]\n",
            " [0. 1. 0. ... 0. 0. 0.]]\n"
          ]
        }
      ]
    }
  ]
}